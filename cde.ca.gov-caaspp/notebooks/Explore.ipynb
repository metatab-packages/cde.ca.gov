{
 "cells": [
  {
   "cell_type": "code",
   "execution_count": 1,
   "metadata": {},
   "outputs": [],
   "source": [
    "import seaborn as sns\n",
    "import metapack as mp\n",
    "import pandas as pd\n",
    "import numpy as np\n",
    "import matplotlib.pyplot as plt\n",
    "from IPython.display import display \n",
    "\n",
    "%matplotlib inline\n",
    "sns.set_context('notebook')\n",
    "mp.jupyter.init()\n"
   ]
  },
  {
   "cell_type": "code",
   "execution_count": 5,
   "metadata": {},
   "outputs": [
    {
     "data": {
      "text/html": [
       "<h1>CAASPP Test Results</h1>\n",
       "<p><code>cde.ca.gov-caaspp-2015e-1</code> Last Update: 2019-04-22T16:18:21</p>\n",
       "<p><em>California Assessment of Student Performance and Progress</em></p>\n",
       "<p>This dataset is a simple combination of multiple years of California Assessment of Student Performance and Progress\n",
       "(CAASPP) Results, for the years 2015 on. The CAASPP was conducted in 2014, but the file has a different structure\n",
       "from other years ( it's a \"pp\" file, see below) so it is excluded from this package.</p>\n",
       "<h1>Download Structure</h1>\n",
       "<p>The <code>Base Download</code> documentation link points to an FTP-like web directory of files, which contain the downloadable\n",
       "files. The other download pages have links to the files in these directories. These directories, as well as the\n",
       "dataset webpages are a bit complex. There seems to be a few different sorts of test result files, but there isn't a\n",
       "clear distinction between them. These fiels include:</p>\n",
       "<ul>\n",
       "<li>\"Paper Based\" results , for 2014 and 2015</li>\n",
       "<li>Tests in Spanish, marked \"STS\" for 2016 and 2017</li>\n",
       "<li>Files with code 'pp'. Some 'pp' files have additional codes 'p2' or 'p3'</li>\n",
       "<li>Files with 'sb', often also with 'p2' or 'p3'</li>\n",
       "</ul>\n",
       "<p>I think 'sb' means 'Smarter-Balanced'. </p>\n",
       "<p>The main page for accessing test results, https://caaspp.cde.ca.gov/, has an inconsistent set of links to result\n",
       "pages for each year. For some years, the links are to \"STS\" results, others are to \"Paper-Based\" and for 2018, the\n",
       "links are to the \"STS\" and \"Smarter Balanced\" results.</p>\n",
       "<h2>Documentation Links</h2>\n",
       "<ul>\n",
       "<li><a href=\"https://caaspp.cde.ca.gov/\">CAASPP Homepage</a> </li>\n",
       "<li><a href=\"https://caaspp.cde.ca.gov/sb2017/ResearchFileList?ps=true&amp;lstTestType=B&amp;lstCounty=00&amp;lstCntyNam=Select%20County...&amp;lstTestYear=2015\">CAASPP Download page, 2015</a> Dataset page for 2015</li>\n",
       "<li><a href=\"https://caaspp.cde.ca.gov/sb2017/ResearchFileList?ps=true&amp;lstTestType=B&amp;lstCounty=00&amp;lstCntyNam=Select%20County...&amp;lstTestYear=2016\">CAASPP Download page, 2016</a> Dataset page for 2016</li>\n",
       "<li><a href=\"https://caaspp.cde.ca.gov/sb2017/ResearchFileList?ps=true&amp;lstTestType=B&amp;lstCounty=00&amp;lstCntyNam=Select%20County...&amp;lstTestYear=2017\">CAASPP Download page, 2017</a> Dataset page for 2017</li>\n",
       "<li><a href=\"http://www3.cde.ca.gov/caasppresearchfiles/\">Base Download</a> Web directory of downloadable files.</li>\n",
       "</ul>\n",
       "<h2>Contacts</h2>\n",
       "<ul>\n",
       "<li><strong>Creator</strong> <a href=\"mailto:caaspp@cde.ca.gov\">California Department  of Education, Assessment Development and Administration Division</a>, <a href=\"https://caaspp.cde.ca.gov/\">California Department  of Education</a></li>\n",
       "<li><strong>Wrangler</strong> <a href=\"mailto:eric@civicknowledge.com\">Eric Busboom</a>, <a href=\"http://civicknowledge.com\">Civic Knowledge</a></li>\n",
       "</ul>\n",
       "<h2>Resources</h2>\n",
       "<ul>\n",
       "<li><strong> <a href=\"data/Subgroups.csv\">subgroup_ids</a></strong>. Subgroup lookup</li>\n",
       "<li><strong> <a href=\"data/tests.csv\">tests</a></strong>. Test code labels</li>\n",
       "<li><strong> <a href=\"python:metapack.rowgenerator#copy_reference_group\">subgroups</a></strong>. Combined subgroups file</li>\n",
       "<li><strong> <a href=\"python:metapack.rowgenerator#copy_reference_group\">entities</a></strong>. Combined entities file</li>\n",
       "</ul>\n",
       "<h2>References</h2>\n",
       "<ul>\n",
       "<li><strong><a href=\"http://www3.cde.ca.gov/caasppresearchfiles/2017/sb/sb_ca2015_all_csv_v3.zip#sb_ca2015entities_csv.txt&amp;target_format=csv\">entities15</a></strong>. Entities, 2015</li>\n",
       "<li><strong><a href=\"http://www3.cde.ca.gov/caasppresearchfiles/2017/sb/sb_ca2016_all_csv_v3.zip#sb_ca2016entities_csv.txt&amp;target_format=csv&amp;encoding=latin1\">entities16</a></strong>. Entities, 2016</li>\n",
       "<li><strong><a href=\"http://www3.cde.ca.gov/caasppresearchfiles/2017/sb/sb_ca2017_all_csv_v2.zip#sb_ca2017entities_csv.txt&amp;target_format=csv&amp;encoding=latin1\">entities17</a></strong>. Entities, 2017</li>\n",
       "<li><strong><a href=\"http://www3.cde.ca.gov/caasppresearchfiles/2018/sb/sb_ca2018_all_csv_v3.zip#sb_ca2018entities_csv.txt&amp;target_format=csv&amp;encoding=latin1\">entities18</a></strong>. Entities, 2018</li>\n",
       "<li><strong><a href=\"http://www3.cde.ca.gov/caasppresearchfiles/2017/sb/sb_ca2015_all_csv_v3.zip#sb_ca2015_all_csv_v3.txt&amp;target_format=csv\">subgroups15</a></strong>. Subgroups 2015</li>\n",
       "<li><strong><a href=\"http://www3.cde.ca.gov/caasppresearchfiles/2017/sb/sb_ca2016_all_csv_v3.zip#sb_ca2016_all_csv_v3.txt&amp;target_format=csv\">subgroups16</a></strong>. Subgroups 2016</li>\n",
       "<li><strong><a href=\"http://www3.cde.ca.gov/caasppresearchfiles/2017/sb/sb_ca2017_all_csv_v2.zip#sb_ca2017_all_csv_v2.txt&amp;target_format=csv\">subgroups17</a></strong>. Subgroups 2017</li>\n",
       "<li><strong><a href=\"http://www3.cde.ca.gov/caasppresearchfiles/2018/sb/sb_ca2018_all_csv_v3.zip#sb_ca2018_all_csv_v3.txt&amp;target_format=csv\">subgroups18</a></strong>. Subgroups 2018</li>\n",
       "</ul>"
      ],
      "text/plain": [
       "<metapack.doc.MetapackDoc at 0x12d547208>"
      ]
     },
     "execution_count": 5,
     "metadata": {},
     "output_type": "execute_result"
    }
   ],
   "source": [
    "#pkg = mp.jupyter.open_package()\n",
    "pkg = mp.jupyter.open_source_package()\n",
    "pkg"
   ]
  },
  {
   "cell_type": "code",
   "execution_count": null,
   "metadata": {},
   "outputs": [],
   "source": [
    "dfs = pkg.resource('subgroups').dataframe()\n",
    "dfs.head().T"
   ]
  },
  {
   "cell_type": "code",
   "execution_count": null,
   "metadata": {},
   "outputs": [],
   "source": [
    "dfs.subgroup_id.nunique()"
   ]
  },
  {
   "cell_type": "code",
   "execution_count": null,
   "metadata": {},
   "outputs": [],
   "source": [
    "df = pkg.resource('subgroups15').dataframe()\n",
    "df.head().T"
   ]
  },
  {
   "cell_type": "code",
   "execution_count": null,
   "metadata": {},
   "outputs": [],
   "source": [
    "df.area_4_percentage_near_standard.describe()"
   ]
  },
  {
   "cell_type": "code",
   "execution_count": null,
   "metadata": {},
   "outputs": [],
   "source": []
  }
 ],
 "metadata": {
  "kernelspec": {
   "display_name": "Python 3",
   "language": "python",
   "name": "python3"
  },
  "language_info": {
   "codemirror_mode": {
    "name": "ipython",
    "version": 3
   },
   "file_extension": ".py",
   "mimetype": "text/x-python",
   "name": "python",
   "nbconvert_exporter": "python",
   "pygments_lexer": "ipython3",
   "version": "3.6.0"
  }
 },
 "nbformat": 4,
 "nbformat_minor": 2
}
